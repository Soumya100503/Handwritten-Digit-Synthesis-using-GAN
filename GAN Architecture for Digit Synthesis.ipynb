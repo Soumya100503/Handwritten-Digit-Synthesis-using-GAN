{
  "cells": [
    {
      "cell_type": "code",
      "execution_count": null,
      "metadata": {
        "colab": {
          "base_uri": "https://localhost:8080/"
        },
        "id": "BebRIbj6ZV0Z",
        "outputId": "42d96e2e-0b97-49ed-9d87-ae260a1a24a4"
      },
      "outputs": [
        {
          "output_type": "stream",
          "name": "stdout",
          "text": [
            "Collecting tensorflow_addons\n",
            "  Downloading tensorflow_addons-0.23.0-cp310-cp310-manylinux_2_17_x86_64.manylinux2014_x86_64.whl (611 kB)\n",
            "\u001b[2K     \u001b[90m━━━━━━━━━━━━━━━━━━━━━━━━━━━━━━━━━━━━━━━━\u001b[0m \u001b[32m611.8/611.8 kB\u001b[0m \u001b[31m7.1 MB/s\u001b[0m eta \u001b[36m0:00:00\u001b[0m\n",
            "\u001b[?25hRequirement already satisfied: packaging in /usr/local/lib/python3.10/dist-packages (from tensorflow_addons) (24.0)\n",
            "Collecting typeguard<3.0.0,>=2.7 (from tensorflow_addons)\n",
            "  Downloading typeguard-2.13.3-py3-none-any.whl (17 kB)\n",
            "Installing collected packages: typeguard, tensorflow_addons\n",
            "Successfully installed tensorflow_addons-0.23.0 typeguard-2.13.3\n"
          ]
        },
        {
          "output_type": "stream",
          "name": "stderr",
          "text": [
            "/usr/local/lib/python3.10/dist-packages/tensorflow_addons/utils/tfa_eol_msg.py:23: UserWarning: \n",
            "\n",
            "TensorFlow Addons (TFA) has ended development and introduction of new features.\n",
            "TFA has entered a minimal maintenance and release mode until a planned end of life in May 2024.\n",
            "Please modify downstream libraries to take dependencies from other repositories in our TensorFlow community (e.g. Keras, Keras-CV, and Keras-NLP). \n",
            "\n",
            "For more information see: https://github.com/tensorflow/addons/issues/2807 \n",
            "\n",
            "  warnings.warn(\n"
          ]
        }
      ],
      "source": [
        "!pip install tensorflow_addons\n",
        "import os\n",
        "import tensorflow as tf\n",
        "from tensorflow.keras.layers import (Dense,\n",
        "                                     BatchNormalization,\n",
        "                                     LeakyReLU,\n",
        "                                     Reshape,\n",
        "                                     Conv2DTranspose,\n",
        "                                     Conv2D,\n",
        "                                     Dropout,\n",
        "                                     Flatten)\n",
        "from tensorflow.keras.initializers import RandomNormal\n",
        "from tensorflow_addons.layers import SpectralNormalization\n",
        "import matplotlib.pyplot as plt\n",
        "import time\n",
        "from IPython import display"
      ]
    },
    {
      "cell_type": "code",
      "execution_count": null,
      "metadata": {
        "colab": {
          "base_uri": "https://localhost:8080/"
        },
        "id": "ij8wubIZyf0i",
        "outputId": "ed4d79b3-89ab-4ead-d914-c3df0bed8970"
      },
      "outputs": [
        {
          "output_type": "stream",
          "name": "stdout",
          "text": [
            "Downloading data from https://storage.googleapis.com/tensorflow/tf-keras-datasets/mnist.npz\n",
            "11490434/11490434 [==============================] - 0s 0us/step\n"
          ]
        }
      ],
      "source": [
        "(images, labels), (_, _) = tf.keras.datasets.mnist.load_data()\n",
        "\n",
        "train_images = images.reshape(-1, 28, 28, 1).astype('float32')\n",
        "train_images = (train_images - 127.5) / 127.5\n",
        "\n",
        "BUFFER_SIZE = 60000\n",
        "BATCH_SIZE = 128\n",
        "\n",
        "train_dataset = (\n",
        "    tf.data.Dataset.from_tensor_slices(train_images)\n",
        "    .shuffle(BUFFER_SIZE)\n",
        "    .batch(BATCH_SIZE)\n",
        ")"
      ]
    },
    {
      "cell_type": "code",
      "execution_count": null,
      "metadata": {
        "id": "z-bxZ4szzTG5"
      },
      "outputs": [],
      "source": [
        "def generator_model():\n",
        "    model = tf.keras.Sequential()\n",
        "    model.add(Dense(7*7*512, use_bias=False, input_shape=(100,), kernel_initializer=RandomNormal(mean=0.0, stddev=0.02)))\n",
        "    model.add(BatchNormalization())\n",
        "    model.add(LeakyReLU())\n",
        "    model.add(Reshape((7, 7, 512)))\n",
        "    model.add(Conv2DTranspose(256, (5, 5), strides=(1, 1), padding='same', use_bias=False, kernel_initializer=RandomNormal(mean=0.0, stddev=0.02)))\n",
        "    model.add(BatchNormalization())\n",
        "    model.add(LeakyReLU())\n",
        "    model.add(Conv2DTranspose(128, (5, 5), strides=(2, 2), padding='same', use_bias=False, kernel_initializer=RandomNormal(mean=0.0, stddev=0.02)))\n",
        "    model.add(BatchNormalization())\n",
        "    model.add(LeakyReLU())\n",
        "    model.add(Conv2DTranspose(64, (5, 5), strides=(2, 2), padding='same', use_bias=False, kernel_initializer=RandomNormal(mean=0.0, stddev=0.02)))\n",
        "    model.add(BatchNormalization())\n",
        "    model.add(LeakyReLU())\n",
        "    model.add(Conv2DTranspose(1, (5, 5), strides=(1, 1), padding='same', use_bias=False, activation='tanh', kernel_initializer=RandomNormal(mean=0.0, stddev=0.02)))\n",
        "    model.summary()\n",
        "    return model"
      ]
    },
    {
      "cell_type": "code",
      "execution_count": null,
      "metadata": {
        "colab": {
          "base_uri": "https://localhost:8080/"
        },
        "id": "JTTHI-iD0ezG",
        "outputId": "b3ef94ee-2e9e-4a5a-98a2-4dae40dfe8d7"
      },
      "outputs": [
        {
          "output_type": "stream",
          "name": "stdout",
          "text": [
            "Model: \"sequential\"\n",
            "_________________________________________________________________\n",
            " Layer (type)                Output Shape              Param #   \n",
            "=================================================================\n",
            " dense (Dense)               (None, 25088)             2508800   \n",
            "                                                                 \n",
            " batch_normalization (Batch  (None, 25088)             100352    \n",
            " Normalization)                                                  \n",
            "                                                                 \n",
            " leaky_re_lu (LeakyReLU)     (None, 25088)             0         \n",
            "                                                                 \n",
            " reshape (Reshape)           (None, 7, 7, 512)         0         \n",
            "                                                                 \n",
            " conv2d_transpose (Conv2DTr  (None, 7, 7, 256)         3276800   \n",
            " anspose)                                                        \n",
            "                                                                 \n",
            " batch_normalization_1 (Bat  (None, 7, 7, 256)         1024      \n",
            " chNormalization)                                                \n",
            "                                                                 \n",
            " leaky_re_lu_1 (LeakyReLU)   (None, 7, 7, 256)         0         \n",
            "                                                                 \n",
            " conv2d_transpose_1 (Conv2D  (None, 14, 14, 128)       819200    \n",
            " Transpose)                                                      \n",
            "                                                                 \n",
            " batch_normalization_2 (Bat  (None, 14, 14, 128)       512       \n",
            " chNormalization)                                                \n",
            "                                                                 \n",
            " leaky_re_lu_2 (LeakyReLU)   (None, 14, 14, 128)       0         \n",
            "                                                                 \n",
            " conv2d_transpose_2 (Conv2D  (None, 28, 28, 64)        204800    \n",
            " Transpose)                                                      \n",
            "                                                                 \n",
            " batch_normalization_3 (Bat  (None, 28, 28, 64)        256       \n",
            " chNormalization)                                                \n",
            "                                                                 \n",
            " leaky_re_lu_3 (LeakyReLU)   (None, 28, 28, 64)        0         \n",
            "                                                                 \n",
            " conv2d_transpose_3 (Conv2D  (None, 28, 28, 1)         1600      \n",
            " Transpose)                                                      \n",
            "                                                                 \n",
            "=================================================================\n",
            "Total params: 6913344 (26.37 MB)\n",
            "Trainable params: 6862272 (26.18 MB)\n",
            "Non-trainable params: 51072 (199.50 KB)\n",
            "_________________________________________________________________\n"
          ]
        }
      ],
      "source": [
        "generator = generator_model()"
      ]
    },
    {
      "cell_type": "code",
      "execution_count": null,
      "metadata": {
        "colab": {
          "base_uri": "https://localhost:8080/",
          "height": 447
        },
        "id": "XScE_Pd20k-m",
        "outputId": "1ab7eeb2-edb5-4ef5-deed-5c3e29f4d2b6"
      },
      "outputs": [
        {
          "output_type": "execute_result",
          "data": {
            "text/plain": [
              "<matplotlib.image.AxesImage at 0x7ec6b04961d0>"
            ]
          },
          "metadata": {},
          "execution_count": 5
        },
        {
          "output_type": "display_data",
          "data": {
            "text/plain": [
              "<Figure size 640x480 with 1 Axes>"
            ],
            "image/png": "[encoded data removed]"
          },
          "metadata": {}
        }
      ],
      "source": [
        "noise = tf.random.normal([1, 100])\n",
        "generated_image = generator(noise, training=False)\n",
        "plt.imshow(generated_image[0, :, :, 0], cmap='gray')"
      ]
    },
    {
      "cell_type": "code",
      "execution_count": null,
      "metadata": {
        "id": "VopWkO5a0ySf"
      },
      "outputs": [],
      "source": [
        "def discriminator_model():\n",
        "    model = tf.keras.Sequential()\n",
        "    model.add(SpectralNormalization(Conv2D(64, (5, 5), strides=(2, 2), padding='same', input_shape=[28, 28, 1], kernel_initializer=RandomNormal(mean=0.0, stddev=0.02))))\n",
        "    model.add(LeakyReLU())\n",
        "    model.add(Dropout(0.4))\n",
        "    model.add(SpectralNormalization(Conv2D(128, (5, 5), strides=(2, 2), padding='same', kernel_initializer=RandomNormal(mean=0.0, stddev=0.02))))\n",
        "    model.add(LeakyReLU())\n",
        "    model.add(Dropout(0.4))\n",
        "    model.add(SpectralNormalization(Conv2D(256, (5, 5), strides=(2, 2), padding='same', kernel_initializer=RandomNormal(mean=0.0, stddev=0.02))))\n",
        "    model.add(LeakyReLU())\n",
        "    model.add(Dropout(0.4))\n",
        "    model.add(Flatten())\n",
        "    model.add(Dense(1, kernel_initializer=RandomNormal(mean=0.0, stddev=0.02)))\n",
        "    model(tf.keras.Input(shape=(28, 28, 1)))\n",
        "    model.summary()\n",
        "    return model"
      ]
    },
    {
      "cell_type": "code",
      "execution_count": null,
      "metadata": {
        "colab": {
          "base_uri": "https://localhost:8080/"
        },
        "id": "cy948za52wNi",
        "outputId": "b4860a5f-0e28-4a4c-ddca-72dac0ce60ae"
      },
      "outputs": [
        {
          "output_type": "stream",
          "name": "stdout",
          "text": [
            "Model: \"sequential_1\"\n",
            "_________________________________________________________________\n",
            " Layer (type)                Output Shape              Param #   \n",
            "=================================================================\n",
            " spectral_normalization (Sp  (None, 14, 14, 64)        1728      \n",
            " ectralNormalization)                                            \n",
            "                                                                 \n",
            " leaky_re_lu_4 (LeakyReLU)   (None, 14, 14, 64)        0         \n",
            "                                                                 \n",
            " dropout (Dropout)           (None, 14, 14, 64)        0         \n",
            "                                                                 \n",
            " spectral_normalization_1 (  (None, 7, 7, 128)         205056    \n",
            " SpectralNormalization)                                          \n",
            "                                                                 \n",
            " leaky_re_lu_5 (LeakyReLU)   (None, 7, 7, 128)         0         \n",
            "                                                                 \n",
            " dropout_1 (Dropout)         (None, 7, 7, 128)         0         \n",
            "                                                                 \n",
            " spectral_normalization_2 (  (None, 4, 4, 256)         819712    \n",
            " SpectralNormalization)                                          \n",
            "                                                                 \n",
            " leaky_re_lu_6 (LeakyReLU)   (None, 4, 4, 256)         0         \n",
            "                                                                 \n",
            " dropout_2 (Dropout)         (None, 4, 4, 256)         0         \n",
            "                                                                 \n",
            " flatten (Flatten)           (None, 4096)              0         \n",
            "                                                                 \n",
            " dense_1 (Dense)             (None, 1)                 4097      \n",
            "                                                                 \n",
            "=================================================================\n",
            "Total params: 1030593 (3.93 MB)\n",
            "Trainable params: 1030145 (3.93 MB)\n",
            "Non-trainable params: 448 (1.75 KB)\n",
            "_________________________________________________________________\n"
          ]
        }
      ],
      "source": [
        "discriminator = discriminator_model()"
      ]
    },
    {
      "cell_type": "code",
      "execution_count": null,
      "metadata": {
        "id": "YIUBLsrn3FIF"
      },
      "outputs": [],
      "source": [
        "cross_entropy = tf.keras.losses.BinaryCrossentropy(from_logits=True)\n",
        "\n",
        "def loss_discriminator(real_output, fake_output):\n",
        "    real_loss = cross_entropy(tf.ones_like(real_output), real_output)\n",
        "    fake_loss = cross_entropy(tf.zeros_like(fake_output), fake_output)\n",
        "    total_loss = real_loss + fake_loss\n",
        "    return total_loss\n",
        "\n",
        "def loss_generator(fake_output):\n",
        "    fake_labels = tf.ones_like(fake_output)\n",
        "    loss = cross_entropy(fake_labels, fake_output)\n",
        "    return loss\n",
        "\n",
        "# Optimizers for the generator and discriminator\n",
        "learning_rate = 2e-4\n",
        "generator_optimizer = tf.keras.optimizers.Adam(learning_rate)\n",
        "discriminator_optimizer = tf.keras.optimizers.Adam(learning_rate)"
      ]
    },
    {
      "cell_type": "code",
      "execution_count": null,
      "metadata": {
        "id": "26Sp0hiJ4oft"
      },
      "outputs": [],
      "source": [
        "save_dir = './model_checkpoints'\n",
        "save_prefix = os.path.join(save_dir, \"ckpt\")\n",
        "ckpt = tf.train.Checkpoint(gen_optimizer=generator_optimizer,\n",
        "                           disc_optimizer=discriminator_optimizer,\n",
        "                           gen_model=generator,\n",
        "                           disc_model=discriminator)\n",
        "\n",
        "total_epochs = 300\n",
        "examples_to_generate = 16\n",
        "noise_dim = 100\n",
        "random_seed = tf.random.normal([examples_to_generate, noise_dim])"
      ]
    },
    {
      "cell_type": "code",
      "execution_count": null,
      "metadata": {
        "id": "1ugEJ4K65teB"
      },
      "outputs": [],
      "source": [
        "@tf.function\n",
        "def train_step(images):\n",
        "  noise = tf.random.normal([BATCH_SIZE, noise_dim])\n",
        "  with tf.GradientTape() as gen_tape, tf.GradientTape() as disc_tape:\n",
        "    generated_images = generator(noise, training=True)\n",
        "\n",
        "    real_output = discriminator(images, training=True)\n",
        "    fake_output = discriminator(generated_images, training=True)\n",
        "\n",
        "    gen_loss = loss_generator(fake_output)\n",
        "    disc_loss = loss_discriminator(real_output, fake_output)\n",
        "  gradients_of_generator = gen_tape.gradient(gen_loss,\n",
        "                                            generator.trainable_variables)\n",
        "  gradients_of_discriminator = disc_tape.gradient(disc_loss,\n",
        "                                            discriminator.trainable_variables)\n",
        "  generator_optimizer.apply_gradients(zip(gradients_of_generator, generator.trainable_variables))\n",
        "  discriminator_optimizer.apply_gradients(zip(gradients_of_discriminator, discriminator.trainable_variables))"
      ]
    },
    {
      "cell_type": "code",
      "execution_count": null,
      "metadata": {
        "id": "15Ryex0W8cE1"
      },
      "outputs": [],
      "source": [
        "def generate_and_save_images(model, epoch, test_input):\n",
        "  predict = model(test_input, training=False)\n",
        "  fig = plt.figure(figsize=(4,4))\n",
        "  for i in range(predict.shape[0]):\n",
        "      plt.subplot(4, 4, i+1)\n",
        "      plt.imshow(predict[i, :, :, 0] * 127.5 + 127.5, cmap='gray')\n",
        "      plt.axis('off')\n",
        "  plt.savefig('image_epoch_{:04d}.png'.format(epoch))\n",
        "  plt.show()"
      ]
    },
    {
      "cell_type": "code",
      "execution_count": null,
      "metadata": {
        "id": "hJGfsNyL9r7_"
      },
      "outputs": [],
      "source": [
        "def train(training_data, total_epochs):\n",
        "    for epoch in range(total_epochs):\n",
        "        start_time = time.time()\n",
        "\n",
        "        for batch in training_data:\n",
        "            train_step(batch)\n",
        "\n",
        "        display.clear_output(wait=True)\n",
        "        generate_and_save_images(generator,epoch+1,random_seed)\n",
        "\n",
        "\n",
        "        if (epoch + 1) % 5 == 0:\n",
        "            ckpt.save(file_prefix=save_prefix)\n",
        "\n",
        "        print(f'Epoch {epoch + 1}/{total_epochs} - Time: {time.time() - start_time:.2f} sec')\n",
        "\n",
        "    display.clear_output(wait=True)\n",
        "    generate_and_save_images(generator, total_epochs,random_seed)\n"
      ]
    },
    {
      "cell_type": "code",
      "execution_count": null,
      "metadata": {
        "id": "lS_gjYHb_hk9",
        "colab": {
          "base_uri": "https://localhost:8080/",
          "height": 345
        },
        "outputId": "72251b6b-5fc3-410d-9772-4a7dfe83c0f0"
      },
      "outputs": [
        {
          "output_type": "display_data",
          "data": {
            "text/plain": [
              "<Figure size 400x400 with 16 Axes>"
            ],
            "image/png": "[encoded data removed]"
          },
          "metadata": {}
        }
      ],
      "source": [
        "train(train_dataset,total_epochs)"
      ]
    },
    {
      "cell_type": "code",
      "execution_count": null,
      "metadata": {
        "id": "O284PdUiQdsd"
      },
      "outputs": [],
      "source": []
    }
  ],
  "metadata": {
    "accelerator": "GPU",
    "colab": {
      "gpuType": "T4",
      "provenance": []
    },
    "kernelspec": {
      "display_name": "Python 3 (ipykernel)",
      "language": "python",
      "name": "python3"
    },
    "language_info": {
      "codemirror_mode": {
        "name": "ipython",
        "version": 3
      },
      "file_extension": ".py",
      "mimetype": "text/x-python",
      "name": "python",
      "nbconvert_exporter": "python",
      "pygments_lexer": "ipython3",
      "version": "3.9.13"
    }
  },
  "nbformat": 4,
  "nbformat_minor": 0
}